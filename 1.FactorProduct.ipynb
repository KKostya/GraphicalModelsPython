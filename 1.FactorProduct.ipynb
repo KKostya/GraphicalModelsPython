{
 "cells": [
  {
   "cell_type": "markdown",
   "metadata": {},
   "source": [
    "# Factor Product using pandas"
   ]
  },
  {
   "cell_type": "code",
   "execution_count": 1,
   "metadata": {
    "collapsed": false
   },
   "outputs": [
    {
     "name": "stdout",
     "output_type": "stream",
     "text": [
      "Populating the interactive namespace from numpy and matplotlib\n"
     ]
    }
   ],
   "source": [
    "%pylab inline\n",
    "import pandas as pd"
   ]
  },
  {
   "cell_type": "markdown",
   "metadata": {},
   "source": [
    "**I think that the most natural way for representing factors in `pandas` is using `pandas.Series` with `MultiIndex`.  \n",
    "Here is the first factor from the lectures:**"
   ]
  },
  {
   "cell_type": "code",
   "execution_count": 6,
   "metadata": {
    "collapsed": false
   },
   "outputs": [
    {
     "data": {
      "text/plain": [
       "a  b\n",
       "1  1    0.5\n",
       "   2    0.8\n",
       "2  1    0.1\n",
       "   2    0.0\n",
       "3  1    0.3\n",
       "   2    0.7\n",
       "dtype: float64"
      ]
     },
     "execution_count": 6,
     "metadata": {},
     "output_type": "execute_result"
    }
   ],
   "source": [
    "tuples = [(1,1),(1,2),(2,1),(2,2),(3,1),(3,2)]\n",
    "mindex = pd.MultiIndex.from_tuples(tuples, names=['a', 'b'])\n",
    "factor1 = pd.Series([0.5,0.8,0.1,0.0,0.3,0.7], index=mindex)\n",
    "factor1"
   ]
  },
  {
   "cell_type": "markdown",
   "metadata": {},
   "source": [
    "And here is the second one:"
   ]
  },
  {
   "cell_type": "code",
   "execution_count": 8,
   "metadata": {
    "collapsed": false
   },
   "outputs": [
    {
     "data": {
      "text/plain": [
       "b  c\n",
       "1  1    0.5\n",
       "   2    0.7\n",
       "2  1    0.1\n",
       "   2    0.2\n",
       "dtype: float64"
      ]
     },
     "execution_count": 8,
     "metadata": {},
     "output_type": "execute_result"
    }
   ],
   "source": [
    "tuples = [(1,1),(1,2),(2,1),(2,2)]\n",
    "mindex = pd.MultiIndex.from_tuples(tuples, names=['b', 'c'])\n",
    "factor2 = pd.Series([0.5,0.7,0.1,0.2], index=mindex)\n",
    "factor2"
   ]
  },
  {
   "cell_type": "markdown",
   "metadata": {},
   "source": [
    "**Unfortunately, `pandas.merge` on multiindexes is not implemented yet, so we'll need to reset the  \n",
    "indices and do the merge manually. Here is one way to calculate the factor product:**"
   ]
  },
  {
   "cell_type": "code",
   "execution_count": 33,
   "metadata": {
    "collapsed": false
   },
   "outputs": [
    {
     "data": {
      "text/plain": [
       "a  c  b\n",
       "1  1  1    0.25\n",
       "      2    0.08\n",
       "   2  1    0.35\n",
       "      2    0.16\n",
       "2  1  1    0.05\n",
       "      2    0.00\n",
       "   2  1    0.07\n",
       "      2    0.00\n",
       "3  1  1    0.15\n",
       "      2    0.07\n",
       "   2  1    0.21\n",
       "      2    0.14\n",
       "dtype: float64"
      ]
     },
     "execution_count": 33,
     "metadata": {},
     "output_type": "execute_result"
    }
   ],
   "source": [
    "allV =list(set(factor1.index.names) | set(factor2.index.names))\n",
    "commonV = list(set(factor1.index.names) & set(factor2.index.names))\n",
    "merged = pd.merge(factor1.reset_index(), factor2.reset_index(), on=commonV)\n",
    "merged.set_index(allV, inplace=True)\n",
    "product = merged[\"0_x\"] * merged[\"0_y\"]\n",
    "product.sort_index()"
   ]
  },
  {
   "cell_type": "markdown",
   "metadata": {},
   "source": [
    "**Finally, lets make it a function:**"
   ]
  },
  {
   "cell_type": "code",
   "execution_count": 35,
   "metadata": {
    "collapsed": true
   },
   "outputs": [],
   "source": [
    "def FactorProduct(factor1, factor2):\n",
    "    allV =list(set(factor1.index.names) | set(factor2.index.names))\n",
    "    commonV = list(set(factor1.index.names) & set(factor2.index.names))\n",
    "    merged = pd.merge(factor1.reset_index(), factor2.reset_index(), on=commonV)\n",
    "    merged.set_index(allV, inplace=True)\n",
    "    return merged[\"0_x\"] * merged[\"0_y\"]"
   ]
  },
  {
   "cell_type": "code",
   "execution_count": null,
   "metadata": {
    "collapsed": true
   },
   "outputs": [],
   "source": []
  }
 ],
 "metadata": {
  "kernelspec": {
   "display_name": "Python 2",
   "language": "python",
   "name": "python2"
  },
  "language_info": {
   "codemirror_mode": {
    "name": "ipython",
    "version": 2
   },
   "file_extension": ".py",
   "mimetype": "text/x-python",
   "name": "python",
   "nbconvert_exporter": "python",
   "pygments_lexer": "ipython2",
   "version": "2.7.11"
  }
 },
 "nbformat": 4,
 "nbformat_minor": 0
}
