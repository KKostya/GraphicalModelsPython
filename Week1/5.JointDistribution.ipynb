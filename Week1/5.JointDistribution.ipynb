{
 "cells": [
  {
   "cell_type": "markdown",
   "metadata": {},
   "source": [
    "# Joint Distribution using pandas"
   ]
  },
  {
   "cell_type": "code",
   "execution_count": 1,
   "metadata": {
    "collapsed": false
   },
   "outputs": [
    {
     "name": "stdout",
     "output_type": "stream",
     "text": [
      "Populating the interactive namespace from numpy and matplotlib\n"
     ]
    }
   ],
   "source": [
    "%pylab inline\n",
    "import itertools\n",
    "import pandas as pd"
   ]
  },
  {
   "cell_type": "code",
   "execution_count": 12,
   "metadata": {
    "collapsed": false
   },
   "outputs": [],
   "source": [
    "tuples = [(1,1),(1,2),(2,1),(2,2),(3,1),(3,2)]\n",
    "mindex = pd.MultiIndex.from_tuples(tuples, names=['a', 'b'])\n",
    "factor1 = pd.Series([0.5,0.8,0.1,0.0,0.3,0.7], index=mindex)\n",
    "\n",
    "tuples = [(1,1),(1,2),(2,1),(2,2)]\n",
    "mindex = pd.MultiIndex.from_tuples(tuples, names=['b', 'c'])\n",
    "factor2 = pd.Series([0.5,0.7,0.1,0.2], index=mindex)\n",
    "\n",
    "tuples = list(itertools.product([1,2,3],[1,2],[1,2,3]))\n",
    "mindex = pd.MultiIndex.from_tuples(tuples, names=['a', 'c', 'd'])\n",
    "factor3 = pd.Series([\n",
    "    0.5,0.7,0.1,0.2,0.3,0.2,\n",
    "    0.4,0.3,0.8,0.3,0.9,0.0,\n",
    "    0.2,0.0,0.1,0.4,0.0,0.2 ], index=mindex)"
   ]
  },
  {
   "cell_type": "code",
   "execution_count": 3,
   "metadata": {
    "collapsed": true
   },
   "outputs": [],
   "source": [
    "def FactorProduct(factor1, factor2):\n",
    "    allV =list(set(factor1.index.names) | set(factor2.index.names))\n",
    "    commonV = list(set(factor1.index.names) & set(factor2.index.names))\n",
    "    merged = pd.merge(factor1.reset_index(), factor2.reset_index(), on=commonV)\n",
    "    merged.set_index(allV, inplace=True)\n",
    "    return merged[\"0_x\"] * merged[\"0_y\"]"
   ]
  },
  {
   "cell_type": "markdown",
   "metadata": {},
   "source": [
    "** I'll use python's `reduce` to fold the list of factors into a common factor product**"
   ]
  },
  {
   "cell_type": "code",
   "execution_count": 15,
   "metadata": {
    "collapsed": true
   },
   "outputs": [
    {
     "data": {
      "text/plain": [
       "a  c  b  d\n",
       "1  1  1  1    0.0625\n",
       "         2    0.0875\n",
       "         3    0.0125\n",
       "      2  1    0.0320\n",
       "         2    0.0448\n",
       "         3    0.0064\n",
       "   2  1  1    0.0350\n",
       "         2    0.0525\n",
       "         3    0.0350\n",
       "      2  1    0.0256\n",
       "         2    0.0384\n",
       "         3    0.0256\n",
       "2  1  1  1    0.0020\n",
       "         2    0.0015\n",
       "         3    0.0040\n",
       "      2  1    0.0000\n",
       "         2    0.0000\n",
       "         3    0.0000\n",
       "   2  1  1    0.0021\n",
       "         2    0.0063\n",
       "         3    0.0000\n",
       "      2  1    0.0000\n",
       "         2    0.0000\n",
       "         3    0.0000\n",
       "3  1  1  1    0.0090\n",
       "         2    0.0000\n",
       "         3    0.0045\n",
       "      2  1    0.0098\n",
       "         2    0.0000\n",
       "         3    0.0049\n",
       "   2  1  1    0.0252\n",
       "         2    0.0000\n",
       "         3    0.0126\n",
       "      2  1    0.0392\n",
       "         2    0.0000\n",
       "         3    0.0196\n",
       "dtype: float64"
      ]
     },
     "execution_count": 15,
     "metadata": {},
     "output_type": "execute_result"
    }
   ],
   "source": [
    "reduce(FactorProduct, [factor1,factor2,factor3], factor1)"
   ]
  },
  {
   "cell_type": "markdown",
   "metadata": {},
   "source": [
    "**Finally, lets make it a function:**"
   ]
  },
  {
   "cell_type": "code",
   "execution_count": 16,
   "metadata": {
    "collapsed": true
   },
   "outputs": [],
   "source": [
    "def JointDistribution(factors):\n",
    "    return reduce(FactorProduct, factors, factors[0])"
   ]
  },
  {
   "cell_type": "code",
   "execution_count": null,
   "metadata": {
    "collapsed": true
   },
   "outputs": [],
   "source": []
  }
 ],
 "metadata": {
  "kernelspec": {
   "display_name": "Python 2",
   "language": "python",
   "name": "python2"
  },
  "language_info": {
   "codemirror_mode": {
    "name": "ipython",
    "version": 2
   },
   "file_extension": ".py",
   "mimetype": "text/x-python",
   "name": "python",
   "nbconvert_exporter": "python",
   "pygments_lexer": "ipython2",
   "version": "2.7.11"
  }
 },
 "nbformat": 4,
 "nbformat_minor": 0
}
