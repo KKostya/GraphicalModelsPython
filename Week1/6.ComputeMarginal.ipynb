{
 "cells": [
  {
   "cell_type": "markdown",
   "metadata": {},
   "source": [
    "# Compute Marginal using pandas"
   ]
  },
  {
   "cell_type": "code",
   "execution_count": 7,
   "metadata": {
    "collapsed": false
   },
   "outputs": [
    {
     "name": "stdout",
     "output_type": "stream",
     "text": [
      "Populating the interactive namespace from numpy and matplotlib\n"
     ]
    }
   ],
   "source": [
    "%pylab inline\n",
    "import itertools\n",
    "import pandas as pd"
   ]
  },
  {
   "cell_type": "code",
   "execution_count": 8,
   "metadata": {
    "collapsed": false
   },
   "outputs": [],
   "source": [
    "tuples = [(1,1),(1,2),(2,1),(2,2),(3,1),(3,2)]\n",
    "mindex = pd.MultiIndex.from_tuples(tuples, names=['a', 'b'])\n",
    "factor1 = pd.Series([0.5,0.8,0.1,0.0,0.3,0.7], index=mindex)\n",
    "\n",
    "tuples = [(1,1),(1,2),(2,1),(2,2)]\n",
    "mindex = pd.MultiIndex.from_tuples(tuples, names=['b', 'c'])\n",
    "factor2 = pd.Series([0.5,0.7,0.1,0.2], index=mindex)\n",
    "\n",
    "tuples = list(itertools.product([1,2,3],[1,2],[1,2,3]))\n",
    "mindex = pd.MultiIndex.from_tuples(tuples, names=['a', 'c', 'd'])\n",
    "factor3 = pd.Series([\n",
    "    0.5,0.7,0.1,0.2,0.3,0.2,\n",
    "    0.4,0.3,0.8,0.3,0.9,0.0,\n",
    "    0.2,0.0,0.1,0.4,0.0,0.2 ], index=mindex)"
   ]
  },
  {
   "cell_type": "code",
   "execution_count": 5,
   "metadata": {
    "collapsed": true
   },
   "outputs": [],
   "source": [
    "def FactorProduct(factor1, factor2):\n",
    "    allV =list(set(factor1.index.names) | set(factor2.index.names))\n",
    "    commonV = list(set(factor1.index.names) & set(factor2.index.names))\n",
    "    merged = pd.merge(factor1.reset_index(), factor2.reset_index(), on=commonV)\n",
    "    merged.set_index(allV, inplace=True)\n",
    "    return merged[\"0_x\"] * merged[\"0_y\"]\n",
    "\n",
    "def ObserveEvidence(factor, **evidence):\n",
    "    observed = factor.copy()\n",
    "    for variableName, value in evidence.iteritems():\n",
    "        resetV = observed.reset_index(level=variableName)\n",
    "        resetV.loc[resetV[variableName] != value, 0] = 0\n",
    "        observed = resetV.set_index(variableName, append=True)[0]\n",
    "    return observed\n",
    "\n",
    "def Marginalize(factor, variable):\n",
    "    return factor.unstack(variable).sum(axis=1)\n",
    "\n",
    "def JointDistribution(factors):\n",
    "    return reduce(FactorProduct, factors, factors[0])"
   ]
  },
  {
   "cell_type": "markdown",
   "metadata": {},
   "source": [
    "**I guess that should be self-explanatory by now:**"
   ]
  },
  {
   "cell_type": "code",
   "execution_count": 35,
   "metadata": {
    "collapsed": true
   },
   "outputs": [],
   "source": [
    "def ComputeMarginal(variables, factors, **evidence):\n",
    "    data = JointDistribution(factors)\n",
    "    data = ObserveEvidence(data, **evidence)\n",
    "    vs = sorted(list(set(data.index.names) - set(variables)))\n",
    "    data = Marginalize(data, vs)\n",
    "    data = data.astype(float) / data.sum()\n",
    "    return data"
   ]
  },
  {
   "cell_type": "markdown",
   "metadata": {},
   "source": [
    "**Here is how it is used**"
   ]
  },
  {
   "cell_type": "code",
   "execution_count": 36,
   "metadata": {
    "collapsed": false
   },
   "outputs": [
    {
     "data": {
      "text/plain": [
       "a\n",
       "1    0.668874\n",
       "2    0.026490\n",
       "3    0.304636\n",
       "dtype: float64"
      ]
     },
     "execution_count": 36,
     "metadata": {},
     "output_type": "execute_result"
    }
   ],
   "source": [
    "ComputeMarginal(['a'], [factor1, factor2, factor3], c=2)"
   ]
  },
  {
   "cell_type": "code",
   "execution_count": 37,
   "metadata": {
    "collapsed": false
   },
   "outputs": [
    {
     "data": {
      "text/plain": [
       "b  d\n",
       "1  1    0.254375\n",
       "   2    0.356125\n",
       "   3    0.050875\n",
       "2  1    0.130240\n",
       "   2    0.182336\n",
       "   3    0.026048\n",
       "dtype: float64"
      ]
     },
     "execution_count": 37,
     "metadata": {},
     "output_type": "execute_result"
    }
   ],
   "source": [
    "ComputeMarginal(['b','d'], [factor1, factor2, factor3], c=1, a=1)"
   ]
  },
  {
   "cell_type": "code",
   "execution_count": null,
   "metadata": {
    "collapsed": true
   },
   "outputs": [],
   "source": []
  }
 ],
 "metadata": {
  "kernelspec": {
   "display_name": "Python 2",
   "language": "python",
   "name": "python2"
  },
  "language_info": {
   "codemirror_mode": {
    "name": "ipython",
    "version": 2
   },
   "file_extension": ".py",
   "mimetype": "text/x-python",
   "name": "python",
   "nbconvert_exporter": "python",
   "pygments_lexer": "ipython2",
   "version": "2.7.11"
  }
 },
 "nbformat": 4,
 "nbformat_minor": 0
}
