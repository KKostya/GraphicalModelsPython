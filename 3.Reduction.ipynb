{
 "cells": [
  {
   "cell_type": "markdown",
   "metadata": {},
   "source": [
    "# Factor reduction in pandas"
   ]
  },
  {
   "cell_type": "code",
   "execution_count": 4,
   "metadata": {
    "collapsed": false
   },
   "outputs": [
    {
     "name": "stdout",
     "output_type": "stream",
     "text": [
      "Populating the interactive namespace from numpy and matplotlib\n"
     ]
    }
   ],
   "source": [
    "%pylab inline\n",
    "import itertools\n",
    "import pandas as pd"
   ]
  },
  {
   "cell_type": "markdown",
   "metadata": {},
   "source": [
    "**Again, I use `pandas.Series` with a `Multiindex` to represent a factor (the one from the lectures):**"
   ]
  },
  {
   "cell_type": "code",
   "execution_count": 7,
   "metadata": {
    "collapsed": false
   },
   "outputs": [
    {
     "data": {
      "text/plain": [
       "a  b  c\n",
       "1  1  1    0.25\n",
       "      2    0.35\n",
       "   2  1    0.08\n",
       "      2    0.16\n",
       "2  1  1    0.05\n",
       "      2    0.07\n",
       "   2  1    0.00\n",
       "      2    0.00\n",
       "3  1  1    0.15\n",
       "      2    0.21\n",
       "   2  1    0.07\n",
       "      2    0.14\n",
       "dtype: float64"
      ]
     },
     "execution_count": 7,
     "metadata": {},
     "output_type": "execute_result"
    }
   ],
   "source": [
    "tuples = list(itertools.product([1,2,3], [1,2], [1,2]))\n",
    "mindex = pd.MultiIndex.from_tuples(tuples, names=['a', 'b', 'c'])\n",
    "factor = pd.Series(\n",
    "    [0.25, 0.35, 0.08, 0.16, 0.05, 0.07, 0.0, 0.0, 0.15, 0.21, 0.07, 0.14],\n",
    "    index=mindex)\n",
    "factor"
   ]
  },
  {
   "cell_type": "markdown",
   "metadata": {},
   "source": [
    "**The factor reduction is then equivalent to making \"cross section\" of the MultiIndexed series:**"
   ]
  },
  {
   "cell_type": "code",
   "execution_count": 6,
   "metadata": {
    "collapsed": false
   },
   "outputs": [
    {
     "data": {
      "text/plain": [
       "a  b\n",
       "1  1    0.25\n",
       "   2    0.08\n",
       "2  1    0.05\n",
       "   2    0.00\n",
       "3  1    0.15\n",
       "   2    0.07\n",
       "dtype: float64"
      ]
     },
     "execution_count": 6,
     "metadata": {},
     "output_type": "execute_result"
    }
   ],
   "source": [
    "factor.xs(1, level='c')"
   ]
  },
  {
   "cell_type": "markdown",
   "metadata": {},
   "source": [
    "**The reduction function is then:**"
   ]
  },
  {
   "cell_type": "code",
   "execution_count": 8,
   "metadata": {
    "collapsed": true
   },
   "outputs": [],
   "source": [
    "def Reduce(factor, variable, value):\n",
    "    return factor.xs(value, variable)"
   ]
  },
  {
   "cell_type": "code",
   "execution_count": null,
   "metadata": {
    "collapsed": true
   },
   "outputs": [],
   "source": []
  }
 ],
 "metadata": {
  "kernelspec": {
   "display_name": "Python 2",
   "language": "python",
   "name": "python2"
  },
  "language_info": {
   "codemirror_mode": {
    "name": "ipython",
    "version": 2
   },
   "file_extension": ".py",
   "mimetype": "text/x-python",
   "name": "python",
   "nbconvert_exporter": "python",
   "pygments_lexer": "ipython2",
   "version": "2.7.11"
  }
 },
 "nbformat": 4,
 "nbformat_minor": 0
}
